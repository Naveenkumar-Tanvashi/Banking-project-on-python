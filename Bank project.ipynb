{
  "nbformat": 4,
  "nbformat_minor": 0,
  "metadata": {
    "colab": {
      "provenance": []
    },
    "kernelspec": {
      "name": "python3",
      "display_name": "Python 3"
    },
    "language_info": {
      "name": "python"
    }
  },
  "cells": [
    {
      "cell_type": "code",
      "execution_count": 1,
      "metadata": {
        "colab": {
          "base_uri": "https://localhost:8080/"
        },
        "id": "qkf_82tF7VzY",
        "outputId": "ca2d0e44-d3fa-4359-c705-6c77777c1682"
      },
      "outputs": [
        {
          "output_type": "stream",
          "name": "stdout",
          "text": [
            "Account created successfully for Alice with account number 1001.\n",
            "Account created successfully for Bob with account number 1002.\n",
            "Deposit of 500 successful. Updated balance: 1500\n",
            "Withdrawal of 200 successful. Updated balance: 1300\n",
            "Account balance for Alice: 1500\n",
            "Account not found.\n"
          ]
        }
      ],
      "source": [
        "class Bank:\n",
        "    def __init__(self):\n",
        "        self.accounts = {}\n",
        "\n",
        "    def create_account(self, account_number, name, balance=0):\n",
        "        if account_number not in self.accounts:\n",
        "            self.accounts[account_number] = {'name': name, 'balance': balance}\n",
        "            print(f\"Account created successfully for {name} with account number {account_number}.\")\n",
        "        else:\n",
        "            print(\"Account number already exists. Please choose a different account number.\")\n",
        "\n",
        "    def deposit(self, account_number, amount):\n",
        "        if account_number in self.accounts:\n",
        "            self.accounts[account_number]['balance'] += amount\n",
        "            print(f\"Deposit of {amount} successful. Updated balance: {self.accounts[account_number]['balance']}\")\n",
        "        else:\n",
        "            print(\"Account not found.\")\n",
        "\n",
        "    def withdraw(self, account_number, amount):\n",
        "        if account_number in self.accounts:\n",
        "            if amount <= self.accounts[account_number]['balance']:\n",
        "                self.accounts[account_number]['balance'] -= amount\n",
        "                print(f\"Withdrawal of {amount} successful. Updated balance: {self.accounts[account_number]['balance']}\")\n",
        "            else:\n",
        "                print(\"Insufficient funds.\")\n",
        "        else:\n",
        "            print(\"Account not found.\")\n",
        "\n",
        "    def check_balance(self, account_number):\n",
        "        if account_number in self.accounts:\n",
        "            balance = self.accounts[account_number]['balance']\n",
        "            print(f\"Account balance for {self.accounts[account_number]['name']}: {balance}\")\n",
        "        else:\n",
        "            print(\"Account not found.\")\n",
        "\n",
        "# Example Usage\n",
        "bank = Bank()\n",
        "\n",
        "# Creating accounts\n",
        "bank.create_account(1001, \"Alice\", 1000)\n",
        "bank.create_account(1002, \"Bob\", 1500)\n",
        "\n",
        "# Depositing and Withdrawing\n",
        "bank.deposit(1001, 500)\n",
        "bank.withdraw(1002, 200)\n",
        "\n",
        "# Checking balances\n",
        "bank.check_balance(1001)\n",
        "bank.check_balance(1003)"
      ]
    }
  ]
}